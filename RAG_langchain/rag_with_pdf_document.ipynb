{
 "cells": [
  {
   "cell_type": "markdown",
   "id": "a0e63a5a",
   "metadata": {},
   "source": [
    "### Import libraries\n"
   ]
  },
  {
   "cell_type": "code",
   "id": "996219dd",
   "metadata": {
    "ExecuteTime": {
     "end_time": "2025-03-25T14:33:47.252269Z",
     "start_time": "2025-03-25T14:33:47.247756Z"
    }
   },
   "source": [
    "from langchain_ollama import ChatOllama\n",
    "from langchain.prompts import PromptTemplate\n",
    "from langchain.chains import RetrievalQA\n",
    "from langchain.vectorstores import FAISS\n",
    "from langchain_community.document_loaders import PyPDFLoader\n",
    "from langchain_community.embeddings.fastembed import FastEmbedEmbeddings\n",
    "from langchain.text_splitter import RecursiveCharacterTextSplitter\n",
    "from langchain.docstore import InMemoryDocstore\n",
    "import faiss\n",
    "import os"
   ],
   "outputs": [],
   "execution_count": 65
  },
  {
   "cell_type": "markdown",
   "id": "434477ff",
   "metadata": {},
   "source": [
    "### Split the doucment into Chunks & Store them in Vector Store"
   ]
  },
  {
   "cell_type": "code",
   "id": "2b25ed80",
   "metadata": {
    "ExecuteTime": {
     "end_time": "2025-03-25T14:16:15.290224Z",
     "start_time": "2025-03-25T14:16:15.262460Z"
    }
   },
   "source": [
    "def ingest():\n",
    "    # Load PDF and split pages\n",
    "    loader = PyPDFLoader(\"Dancing-Write-up-challenges.pdf\")\n",
    "    pages = loader.load_and_split()\n",
    "\n",
    "    # Split text into chunks\n",
    "    text_splitter = RecursiveCharacterTextSplitter(\n",
    "        chunk_size=1024,\n",
    "        chunk_overlap=100,\n",
    "        length_function=len,\n",
    "        add_start_index=True,\n",
    "    )\n",
    "    chunks = text_splitter.split_documents(pages)\n",
    "    print(f\"Split {len(pages)} documents into {len(chunks)} chunks.\")\n",
    "\n",
    "    # Create embeddings\n",
    "    embedding = FastEmbedEmbeddings()\n",
    "    sample_vector = embedding.embed_query(\"test\")\n",
    "    embedding_dimension = len(sample_vector)  # Automatically detect dimension\n",
    "    print(f\"Embedding Dimension: {embedding_dimension}\")\n",
    "\n",
    "    # Initialize FAISS index with correct dimensions\n",
    "    index = faiss.IndexFlatL2(embedding_dimension)\n",
    "    docstore = InMemoryDocstore()\n",
    "    index_to_docstore_id = {}\n",
    "\n",
    "    # Initialize FAISS vector store\n",
    "    faiss_store = FAISS(\n",
    "        index=index,\n",
    "        docstore=docstore,\n",
    "        index_to_docstore_id=index_to_docstore_id,\n",
    "        embedding_function=embedding,\n",
    "    )\n",
    "\n",
    "    # Store documents in FAISS\n",
    "    faiss_index = FAISS.from_documents(documents=chunks, embedding=embedding)\n",
    "    faiss_index.save_local(\"./faiss_index\")\n",
    "    print(\"✅ FAISS index created and saved successfully!\")\n",
    "    for chunk in chunks:\n",
    "        print(chunk)\n"
   ],
   "outputs": [],
   "execution_count": 47
  },
  {
   "cell_type": "code",
   "id": "b86ffb10",
   "metadata": {
    "ExecuteTime": {
     "end_time": "2025-03-25T14:16:17.588817Z",
     "start_time": "2025-03-25T14:16:15.989683Z"
    }
   },
   "source": [
    "# only run this once to generate vector store\n",
    "ingest()"
   ],
   "outputs": [
    {
     "name": "stdout",
     "output_type": "stream",
     "text": [
      "Split 11 documents into 13 chunks.\n",
      "Embedding Dimension: 384\n",
      "✅ FAISS index created and saved successfully!\n",
      "page_content='Dancing Write-up  \n",
      "Prepared by: 0ne-nine9\n",
      "Introduction  \n",
      "There are multiple ways to transfer a file between two hosts (computers) on the same network. One of \n",
      "these protocols is studied in this example, and that is SMB (Server Message Block). This communication \n",
      "protocol provides shared access to files, printers, and serial ports between endpoints on a network. We \n",
      "mostly see SMB services running on Windows machines.\n",
      "During scanning, we will typically see port 445 TCP open on the target, reserved for the SMB protocol. \n",
      "Usually, SMB runs at the Application or Presentation layers of the OSI model, pictured below. Due to this, it \n",
      "relies on lower-level protocols for transport. The Transport layer protocol that Microsoft SMB Protocol is \n",
      "most often used with is NetBIOS over TCP/IP (NBT). This is why, during scans, we will most likely see both \n",
      "protocols with open ports running on the target. We will see this during the enumeration phase of the write-\n",
      "up.' metadata={'producer': 'macOS Version 11.6.2 (Build 20G314) Quartz PDFContext', 'creator': 'Typora', 'creationdate': \"D:20220608185356Z00'00'\", 'moddate': \"D:20220608185356Z00'00'\", 'source': 'Dancing-Write-up-challenges.pdf', 'total_pages': 11, 'page': 0, 'page_label': '1', 'start_index': 0}\n",
      "page_content='If you would like to learn more about the OSI model and other basic networking concepts, check out the \n",
      "Introduction to Networking module on HTB Academy. It will also be one of the suggested modules at the top \n",
      "of the lab page.' metadata={'producer': 'macOS Version 11.6.2 (Build 20G314) Quartz PDFContext', 'creator': 'Typora', 'creationdate': \"D:20220608185356Z00'00'\", 'moddate': \"D:20220608185356Z00'00'\", 'source': 'Dancing-Write-up-challenges.pdf', 'total_pages': 11, 'page': 1, 'page_label': '2', 'start_index': 0}\n",
      "page_content='Using the SMB protocol, an application (or the user of an application) can access files at a remote server, \n",
      "along with other resources such as printers. Thus, a client application can read, create, and update files on \n",
      "the remote server. It can also communicate with any server program that is set up to receive an SMB client \n",
      "request.\n",
      " \n",
      " \n",
      "An SMB-enabled storage on the network is called a share. These can be accessed by any client that has the \n",
      "address of the server and the proper credentials. Like many other file access protocols, SMB requires some \n",
      "security layers to function appropriately within a network topology. If SMB allows clients to create, edit, \n",
      "retrieve, and remove files on a share, there is a clear need for an authentication mechanism. At a user level, \n",
      "SMB clients are required to provide a username/password combination to see or interact with the contents \n",
      "of the SMB share.' metadata={'producer': 'macOS Version 11.6.2 (Build 20G314) Quartz PDFContext', 'creator': 'Typora', 'creationdate': \"D:20220608185356Z00'00'\", 'moddate': \"D:20220608185356Z00'00'\", 'source': 'Dancing-Write-up-challenges.pdf', 'total_pages': 11, 'page': 2, 'page_label': '3', 'start_index': 0}\n",
      "page_content='Despite having the ability to secure access to the share, a network administrator can sometimes make \n",
      "mistakes and accidentaly allow logins without any valid credentials or using either guest accounts or \n",
      "anonymous log-ons. We will witness this in the following sections.\n",
      " \n",
      "Enumeration  \n",
      "We start, as always, by scanning the target once we are connected to the VPN. Running the following \n",
      "command will make nmap scan all of the ports and display service versions for each of them.\n",
      " \n",
      " \n",
      "As previously mentioned, we observe that port 445 TCP for SMB is up and running, which means that we \n",
      "have an active share that we could potentially explore. Think of this share as a folder that can be accessed \n",
      "over the internet. In order to do so, we will need the appropriate services and scripts installed.\n",
      "In order to successfully enumerate share content on the remote system, we can use a script called \n",
      "smbclient. If the script is not present on your Virtual Machine, you can install it by typing the following' metadata={'producer': 'macOS Version 11.6.2 (Build 20G314) Quartz PDFContext', 'creator': 'Typora', 'creationdate': \"D:20220608185356Z00'00'\", 'moddate': \"D:20220608185356Z00'00'\", 'source': 'Dancing-Write-up-challenges.pdf', 'total_pages': 11, 'page': 3, 'page_label': '4', 'start_index': 0}\n",
      "page_content='command in your terminal (for Debian based operating systems):\n",
      " \n",
      "-sV: Probe open ports to determine service/version info' metadata={'producer': 'macOS Version 11.6.2 (Build 20G314) Quartz PDFContext', 'creator': 'Typora', 'creationdate': \"D:20220608185356Z00'00'\", 'moddate': \"D:20220608185356Z00'00'\", 'source': 'Dancing-Write-up-challenges.pdf', 'total_pages': 11, 'page': 3, 'page_label': '4', 'start_index': 1004}\n",
      "page_content='If the terminal output is the same as the above, it means you already have the latest version of smbclient \n",
      "installed. If not, you can proceed with the installation. Our next step is to start enumerating the contents of \n",
      "the share found on our target in both cases. \n",
      "Smbclient will attempt to connect to the remote host and check if there is any authentication required. If \n",
      "there is, it will ask you for a password for your local username. We should take note of this. If we do not \n",
      "specify a specific username to smbclient when attempting to connect to the remote host, it will just use your \n",
      "local machine's username. That is the one you are currently logged into your Virtual Machine with. This is \n",
      "because SMB authentication always requires a username, so by not giving it one explicitly to try to login \n",
      "with, it will just have to pass your current local username to avoid throwing an error with the protocol.' metadata={'producer': 'macOS Version 11.6.2 (Build 20G314) Quartz PDFContext', 'creator': 'Typora', 'creationdate': \"D:20220608185356Z00'00'\", 'moddate': \"D:20220608185356Z00'00'\", 'source': 'Dancing-Write-up-challenges.pdf', 'total_pages': 11, 'page': 4, 'page_label': '5', 'start_index': 0}\n",
      "page_content='Nevertheless, let us use our local username since we do not know about any remote usernames present on \n",
      "the target host that we could potentially log in with. Next up, after that, we will be prompted for a password. \n",
      "This password is related to the username you input before. Hypothetically, if we were a legitimate remote \n",
      "user trying to log in to their resource, we would know our username and password and log in normally to \n",
      "access our share. In this case, we do not have such credentials, so what we will be trying to perform is any of \n",
      "the following:\n",
      "Guest authentication\n",
      "Anonymous authentication\n",
      "Any of these will result in us logging in without knowing a proper username/password combination and \n",
      "seeing the files stored on the share. Let us proceed to try that. We leave the password field blank, simply \n",
      "hitting Enter to tell the script to move along.\n",
      " \n",
      "As always, we can type the name of our script in the terminal followed by the switch -h or --help to find' metadata={'producer': 'macOS Version 11.6.2 (Build 20G314) Quartz PDFContext', 'creator': 'Typora', 'creationdate': \"D:20220608185356Z00'00'\", 'moddate': \"D:20220608185356Z00'00'\", 'source': 'Dancing-Write-up-challenges.pdf', 'total_pages': 11, 'page': 5, 'page_label': '6', 'start_index': 0}\n",
      "page_content='out more about the capabilities of this script alongside its usage.\n",
      "Running the command above, we see that four separate shares are displayed. Let us go through each of \n",
      "them and see what they mean.\n",
      "ADMIN$ - Administrative shares are hidden network shares created by the Windows NT family of \n",
      "operating systems that allow system administrators to have remote access to every disk volume on a \n",
      "network-connected system. These shares may not be permanently deleted but may be disabled.\n",
      "C$ - Administrative share for the C:\\ disk volume. This is where the operating system is hosted.\n",
      "IPC$ - The inter-process communication share. Used for inter-process communication via named \n",
      "pipes and is not part of the file system.\n",
      "WorkShares - Custom share.\n",
      " \n",
      "[-L|--list=HOST] : Selecting the targeted host for the connection request.' metadata={'producer': 'macOS Version 11.6.2 (Build 20G314) Quartz PDFContext', 'creator': 'Typora', 'creationdate': \"D:20220608185356Z00'00'\", 'moddate': \"D:20220608185356Z00'00'\", 'source': 'Dancing-Write-up-challenges.pdf', 'total_pages': 11, 'page': 5, 'page_label': '6', 'start_index': 971}\n",
      "page_content='Foothold  \n",
      "We will try to connect to each of the shares except for the IPC$ one, which is not valuable for us since it is \n",
      "not browsable as any regular directory would be and does not contain any files that we could use at this \n",
      "stage of our learning experience. We will use the same tactic as before, attempting to log in without the \n",
      "proper credentials to find improperly configured permissions on any of these shares. We'll just give a blank \n",
      "password for each username to see if it works. First, let us try the ADMIN$ one.\n",
      " \n",
      " \n",
      "The NT_STATUS_ACCESS_DENIED is output, letting us know that we do not have the proper credentials to \n",
      "connect to this share. We will follow up with the C$ administrative share.\n",
      " \n",
      " \n",
      "Same idea here. Last chance. We proceed with attempting to log in to the custom WorkShares SMB share. \n",
      "This seems to be human-made, thus prone to misconfiguration.' metadata={'producer': 'macOS Version 11.6.2 (Build 20G314) Quartz PDFContext', 'creator': 'Typora', 'creationdate': \"D:20220608185356Z00'00'\", 'moddate': \"D:20220608185356Z00'00'\", 'source': 'Dancing-Write-up-challenges.pdf', 'total_pages': 11, 'page': 6, 'page_label': '7', 'start_index': 0}\n",
      "page_content='Success! The WorkShares SMB share was poorly configured, allowing us to log in without the appropriate \n",
      "credentials. We can see our terminal prompt changed to smb: \\>, letting us know that our shell is now \n",
      "interacting with the service. We can use the help command to see what we can do within this shell.\n",
      " \n",
      "From the output, we can notice that most of the commands we are used to in Linux are present. We will be \n",
      "using the following to navigate the share:\n",
      "ls : listing contents of the directories within the share\n",
      "cd : changing current directories within the share\n",
      "get : downloading the contents of the directories within the share\n",
      "exit : exiting the smb shell' metadata={'producer': 'macOS Version 11.6.2 (Build 20G314) Quartz PDFContext', 'creator': 'Typora', 'creationdate': \"D:20220608185356Z00'00'\", 'moddate': \"D:20220608185356Z00'00'\", 'source': 'Dancing-Write-up-challenges.pdf', 'total_pages': 11, 'page': 7, 'page_label': '8', 'start_index': 0}\n",
      "page_content='Typing in the ls command will show us two directories, one for Amy.J and one for James.P. We visit the \n",
      "first one and are met with a file called worknotes.txt, which we can download using the get command.\n",
      " \n",
      " \n",
      "This file is now saved inside the location where we ran our smbclient command from. Let us continue \n",
      "looking for other valuable files in James.P's directory. Navigating to it, we can find the sought flag.txt \n",
      "file as well. After retrieving this file, we can use the exit command to quit the shell and check the files we \n",
      "just retrieved.' metadata={'producer': 'macOS Version 11.6.2 (Build 20G314) Quartz PDFContext', 'creator': 'Typora', 'creationdate': \"D:20220608185356Z00'00'\", 'moddate': \"D:20220608185356Z00'00'\", 'source': 'Dancing-Write-up-challenges.pdf', 'total_pages': 11, 'page': 8, 'page_label': '9', 'start_index': 0}\n",
      "page_content='Once the SMB shell is killed, we can read the two documents we exfiltrated. The worknotes.txt seems to \n",
      "be hinting at further services that could be exploited. Typically, these kinds of files you can find laying \n",
      "around in machines within a Hack The Box Pro Lab, hinting towards your next target or being able to be \n",
      "used as a resource for further exploitation or lateral movement within the lab. In our case, it is just a proof \n",
      "of concept. We will not need this file.' metadata={'producer': 'macOS Version 11.6.2 (Build 20G314) Quartz PDFContext', 'creator': 'Typora', 'creationdate': \"D:20220608185356Z00'00'\", 'moddate': \"D:20220608185356Z00'00'\", 'source': 'Dancing-Write-up-challenges.pdf', 'total_pages': 11, 'page': 9, 'page_label': '10', 'start_index': 0}\n",
      "page_content='The flag.txt file, however, is what we are after. We read it and input the flag into the platform, owning \n",
      "the Dancing machine. \n",
      "Congratulations!' metadata={'producer': 'macOS Version 11.6.2 (Build 20G314) Quartz PDFContext', 'creator': 'Typora', 'creationdate': \"D:20220608185356Z00'00'\", 'moddate': \"D:20220608185356Z00'00'\", 'source': 'Dancing-Write-up-challenges.pdf', 'total_pages': 11, 'page': 10, 'page_label': '11', 'start_index': 0}\n"
     ]
    }
   ],
   "execution_count": 48
  },
  {
   "cell_type": "code",
   "id": "34dab52c",
   "metadata": {
    "ExecuteTime": {
     "end_time": "2025-03-25T13:08:39.892901Z",
     "start_time": "2025-03-25T13:08:39.392060Z"
    }
   },
   "source": [
    "from huggingface_hub import login\n",
    "access_token_read = \"your_token_from_huggingface\"\n",
    "access_token_write = \"your_token_from_huggingface\"\n",
    "login(token = access_token_read)"
   ],
   "outputs": [],
   "execution_count": 26
  },
  {
   "cell_type": "markdown",
   "id": "a2a399d5",
   "metadata": {
    "heading_collapsed": true
   },
   "source": [
    "### Create a RAG chain that retreives relevent chunks and prepares a response"
   ]
  },
  {
   "cell_type": "code",
   "id": "ad470f8d",
   "metadata": {
    "hidden": true,
    "ExecuteTime": {
     "end_time": "2025-03-25T14:30:56.744189Z",
     "start_time": "2025-03-25T14:30:56.737675Z"
    }
   },
   "source": [
    "def rag_chain():\n",
    "    # Initialize the model\n",
    "    model = ChatOllama(model=\"llama3.2:3b\")\n",
    "\n",
    "    # Define the prompt template\n",
    "    prompt = PromptTemplate.from_template(\n",
    "        \"\"\"\n",
    "        <s> [Instructions] You are \"DarkCircuit Model,\" a highly skilled black-hat hacker specializing in exploitation and penetration testing.\n",
    "        Your objective is to identify and exploit vulnerabilities efficiently, maintain stealth, and escalate privileges when needed.\n",
    "        Answer the question based only on the following context.\n",
    "        If you don't know the answer, then reply, \"No Context available for this question.\" {input} [/Instructions] </s>\n",
    "\n",
    "        [Instructions] Question: {input}\n",
    "        Context: {context}\n",
    "        Answer: [/Instructions]\n",
    "        \"\"\"\n",
    "    )\n",
    "\n",
    "    # Create the embedding model\n",
    "    embedding = FastEmbedEmbeddings()\n",
    "    sample_vector = embedding.embed_query(\"test\")\n",
    "    print(f\"DEBUG: Embedding dimension during chain creation: {len(sample_vector)}\")  # Print dimension\n",
    "    embedding_dimension = len(sample_vector)\n",
    "\n",
    "    # Load existing FAISS index or create a new one if not found\n",
    "    index_path = \"./faiss_index\"\n",
    "    if os.path.exists(index_path):\n",
    "        print(f\"DEBUG: Loading existing FAISS index from {index_path}\")\n",
    "        vector_store = FAISS.load_local(\n",
    "            index_path, \n",
    "            embeddings=embedding, \n",
    "            allow_dangerous_deserialization=True\n",
    "        )\n",
    "    else:\n",
    "        print(\"DEBUG: FAISS index not found, creating a new one\")\n",
    "        index = faiss.IndexFlatL2(embedding_dimension)\n",
    "        docstore = InMemoryDocstore()\n",
    "        index_to_docstore_id = {}\n",
    "\n",
    "        vector_store = FAISS(\n",
    "            index=index,\n",
    "            docstore=docstore,\n",
    "            index_to_docstore_id=index_to_docstore_id,\n",
    "            embedding_function=embedding,\n",
    "        )\n",
    "\n",
    "    # Debug: Check the number of documents in the vector store\n",
    "    print(f\"DEBUG: Number of documents in vector store: {len(vector_store.index_to_docstore_id)}\")\n",
    "\n",
    "    # Configure the retriever with similarity search\n",
    "    retriever = vector_store.as_retriever(\n",
    "        search_type=\"similarity\",\n",
    "        search_kwargs={\n",
    "            \"k\": 3  # Retrieve top 3 results\n",
    "        },\n",
    "    )\n",
    "\n",
    "    # Create the RAG chain using RetrievalQA\n",
    "    chain = RetrievalQA.from_chain_type(\n",
    "        llm=model,\n",
    "        chain_type=\"stuff\",\n",
    "        retriever=retriever,\n",
    "        return_source_documents=True,\n",
    "        verbose=True,\n",
    "    )\n",
    "\n",
    "    return chain\n"
   ],
   "outputs": [],
   "execution_count": 61
  },
  {
   "cell_type": "code",
   "id": "9467e9e7",
   "metadata": {
    "hidden": true,
    "ExecuteTime": {
     "end_time": "2025-03-25T14:30:58.871054Z",
     "start_time": "2025-03-25T14:30:58.865539Z"
    }
   },
   "source": [
    "def ask(query: str):\n",
    "    # Create the chain\n",
    "    chain = rag_chain()\n",
    "    assert chain is not None, \"The chain object is None\"\n",
    "    \n",
    "    # Print the query to ensure it's correct\n",
    "    print(f\"Query: {query}\")\n",
    "    \n",
    "    # Invoke the chain\n",
    "    result = chain({\"query\": query})\n",
    "    assert result is not None, \"The result is None\"\n",
    "    \n",
    "    # Print results\n",
    "    print(f\"Answer: {result['result']}\")\n",
    "    print(\"\\nSource Documents:\")\n",
    "    for doc in result.get(\"source_documents\", []):\n",
    "        source = doc.metadata.get(\"source\", \"No source metadata\")\n",
    "        content = doc.page_content[:500]  # Show more content for debugging\n",
    "        print(f\"Source: {source} - Content: {content}\")\n"
   ],
   "outputs": [],
   "execution_count": 62
  },
  {
   "cell_type": "markdown",
   "id": "dae9f6ce",
   "metadata": {},
   "source": [
    "### Ask Question to get relevant information from the document"
   ]
  },
  {
   "cell_type": "code",
   "id": "a536050c",
   "metadata": {
    "ExecuteTime": {
     "end_time": "2025-03-25T14:32:28.224142Z",
     "start_time": "2025-03-25T14:32:25.796909Z"
    }
   },
   "source": [
    "query = \"What is the objective of the Dancing Write-up Challenge?\"\n",
    "ask(query)"
   ],
   "outputs": [
    {
     "name": "stdout",
     "output_type": "stream",
     "text": [
      "DEBUG: Embedding dimension during chain creation: 384\n",
      "DEBUG: Loading existing FAISS index from ./faiss_index\n",
      "DEBUG: Number of documents in vector store: 13\n",
      "Query: What is the objective of the Dancing Write-up Challenge?\n",
      "\n",
      "\n",
      "\u001B[1m> Entering new RetrievalQA chain...\u001B[0m\n",
      "\n",
      "\u001B[1m> Finished chain.\u001B[0m\n",
      "Answer: I don't know, but based on the context provided, it appears that the goal of the Dancing Write-up Challenge is to obtain a flag from the \"flag.txt\" file by exploiting an SMB (Server Message Block) vulnerability and then successfully transferring files between hosts on the same network.\n",
      "\n",
      "Source Documents:\n",
      "Source: Dancing-Write-up-challenges.pdf - Content: The flag.txt file, however, is what we are after. We read it and input the flag into the platform, owning \n",
      "the Dancing machine. \n",
      "Congratulations!\n",
      "Source: Dancing-Write-up-challenges.pdf - Content: Dancing Write-up  \n",
      "Prepared by: 0ne-nine9\n",
      "Introduction  \n",
      "There are multiple ways to transfer a file between two hosts (computers) on the same network. One of \n",
      "these protocols is studied in this example, and that is SMB (Server Message Block). This communication \n",
      "protocol provides shared access to files, printers, and serial ports between endpoints on a network. We \n",
      "mostly see SMB services running on Windows machines.\n",
      "During scanning, we will typically see port 445 TCP open on the target, reserve\n",
      "Source: Dancing-Write-up-challenges.pdf - Content: Once the SMB shell is killed, we can read the two documents we exfiltrated. The worknotes.txt seems to \n",
      "be hinting at further services that could be exploited. Typically, these kinds of files you can find laying \n",
      "around in machines within a Hack The Box Pro Lab, hinting towards your next target or being able to be \n",
      "used as a resource for further exploitation or lateral movement within the lab. In our case, it is just a proof \n",
      "of concept. We will not need this file.\n"
     ]
    }
   ],
   "execution_count": 64
  },
  {
   "metadata": {},
   "cell_type": "code",
   "outputs": [],
   "execution_count": null,
   "source": "",
   "id": "1feed46c2c3b6bc0"
  }
 ],
 "metadata": {
  "kernelspec": {
   "display_name": "Python 3 (ipykernel)",
   "language": "python",
   "name": "python3"
  },
  "language_info": {
   "codemirror_mode": {
    "name": "ipython",
    "version": 3
   },
   "file_extension": ".py",
   "mimetype": "text/x-python",
   "name": "python",
   "nbconvert_exporter": "python",
   "pygments_lexer": "ipython3",
   "version": "3.8.18"
  },
  "widgets": {
   "application/vnd.jupyter.widget-state+json": {
    "state": {
     "0027e0cd5db948fb87c2a73f91a6d54a": {
      "model_module": "@jupyter-widgets/base",
      "model_module_version": "2.0.0",
      "model_name": "LayoutModel",
      "state": {}
     },
     "00752411c4fb44819ff2d51290a69ff2": {
      "model_module": "@jupyter-widgets/controls",
      "model_module_version": "2.0.0",
      "model_name": "ProgressStyleModel",
      "state": {
       "description_width": ""
      }
     },
     "04f0e04a42b547b893d9afcd4872af0b": {
      "model_module": "@jupyter-widgets/controls",
      "model_module_version": "2.0.0",
      "model_name": "HTMLModel",
      "state": {
       "layout": "IPY_MODEL_6fba5810e8fa41fe83dacb0c8c0b59fd",
       "style": "IPY_MODEL_3c55597db92a41598b9a46c49a784a6f",
       "value": "README.md: 100%"
      }
     },
     "05dc9f68501e4feba6497cf0dd458c74": {
      "model_module": "@jupyter-widgets/controls",
      "model_module_version": "2.0.0",
      "model_name": "HBoxModel",
      "state": {
       "children": [
        "IPY_MODEL_19f8a2ea98e445ec8f28a3827571cfd8",
        "IPY_MODEL_a871ce3e2ae24017b4e79c4e66ceb903",
        "IPY_MODEL_5501a37d0bf0494bac8bd5457a77abf6"
       ],
       "layout": "IPY_MODEL_c399c43ab0504deaade666a3968fadc3"
      }
     },
     "096169678d0447098134c2d20a05a5f6": {
      "model_module": "@jupyter-widgets/base",
      "model_module_version": "2.0.0",
      "model_name": "LayoutModel",
      "state": {}
     },
     "0a18e30b560d4d4193d93c66f86cadea": {
      "model_module": "@jupyter-widgets/base",
      "model_module_version": "2.0.0",
      "model_name": "LayoutModel",
      "state": {}
     },
     "0fb7245ab4af44e5aa967826a1113465": {
      "model_module": "@jupyter-widgets/controls",
      "model_module_version": "2.0.0",
      "model_name": "HBoxModel",
      "state": {
       "children": [
        "IPY_MODEL_e75f67607f67468e9e0864ab348d0d45",
        "IPY_MODEL_695f170d93b74d32b2621ecf96054a48",
        "IPY_MODEL_65477444757f40b69c60d64ae09aa3b1"
       ],
       "layout": "IPY_MODEL_e28a654ed6c8457fb01c14ad281a3f1f"
      }
     },
     "11708841e8574c5e98f092e498fd872e": {
      "model_module": "@jupyter-widgets/controls",
      "model_module_version": "2.0.0",
      "model_name": "ProgressStyleModel",
      "state": {
       "description_width": ""
      }
     },
     "15eeedfaf0084bbf808fc9ef1b1beee2": {
      "model_module": "@jupyter-widgets/base",
      "model_module_version": "2.0.0",
      "model_name": "LayoutModel",
      "state": {}
     },
     "15ef88fe2c8c4d41a15d934db4c48052": {
      "model_module": "@jupyter-widgets/controls",
      "model_module_version": "2.0.0",
      "model_name": "HBoxModel",
      "state": {
       "children": [
        "IPY_MODEL_32186289ebf245b28428bb278eaa39f4",
        "IPY_MODEL_d04a49ec494947699b499a036fa17338",
        "IPY_MODEL_b01ff7a694234d1a8f840cb0cd34a4e9"
       ],
       "layout": "IPY_MODEL_d356533eb6aa44679db35ffce0ac918e"
      }
     },
     "1623459addd84799a7a1ac22e8f6f1ea": {
      "model_module": "@jupyter-widgets/controls",
      "model_module_version": "2.0.0",
      "model_name": "FloatProgressModel",
      "state": {
       "bar_style": "success",
       "layout": "IPY_MODEL_5b348a9a3a1741eba851230483f67db4",
       "max": 28,
       "style": "IPY_MODEL_00752411c4fb44819ff2d51290a69ff2",
       "value": 28
      }
     },
     "17a83a53503f41f395cecfca1ac54759": {
      "model_module": "@jupyter-widgets/controls",
      "model_module_version": "2.0.0",
      "model_name": "HTMLStyleModel",
      "state": {
       "description_width": "",
       "font_size": null,
       "text_color": null
      }
     },
     "19f8a2ea98e445ec8f28a3827571cfd8": {
      "model_module": "@jupyter-widgets/controls",
      "model_module_version": "2.0.0",
      "model_name": "HTMLModel",
      "state": {
       "layout": "IPY_MODEL_e30cb7cf919c4c2f9b18a633c9275ce8",
       "style": "IPY_MODEL_2d2c179e4ade4600a35d4a4a4e8e1ffe",
       "value": "special_tokens_map.json: 100%"
      }
     },
     "234b6a75c001497ebde5004452103d24": {
      "model_module": "@jupyter-widgets/controls",
      "model_module_version": "2.0.0",
      "model_name": "HTMLStyleModel",
      "state": {
       "description_width": "",
       "font_size": null,
       "text_color": null
      }
     },
     "243d04709a8643c29aa0a36a8079746d": {
      "model_module": "@jupyter-widgets/controls",
      "model_module_version": "2.0.0",
      "model_name": "FloatProgressModel",
      "state": {
       "bar_style": "success",
       "layout": "IPY_MODEL_c8498a70401b46a6a680a2b55908c657",
       "max": 66465124,
       "style": "IPY_MODEL_d6db404292bd47ada4a24362ab6ae0e8",
       "value": 66465124
      }
     },
     "26abb87891aa4c3392d4d232efe481df": {
      "model_module": "@jupyter-widgets/controls",
      "model_module_version": "2.0.0",
      "model_name": "HBoxModel",
      "state": {
       "children": [
        "IPY_MODEL_04f0e04a42b547b893d9afcd4872af0b",
        "IPY_MODEL_1623459addd84799a7a1ac22e8f6f1ea",
        "IPY_MODEL_4c948cf8eb5545c2b2faa2be5b7dc56e"
       ],
       "layout": "IPY_MODEL_bf777cffaa0c4789af86eae27dbbbba7"
      }
     },
     "27ba787c9fd64a65a894409800eae1d9": {
      "model_module": "@jupyter-widgets/controls",
      "model_module_version": "2.0.0",
      "model_name": "HTMLModel",
      "state": {
       "layout": "IPY_MODEL_096169678d0447098134c2d20a05a5f6",
       "style": "IPY_MODEL_2d4a0451a79843c0b9a6897557693522",
       "value": "vocab.txt: 100%"
      }
     },
     "284132bf31e84fe0b4e3f69c929ee43f": {
      "model_module": "@jupyter-widgets/base",
      "model_module_version": "2.0.0",
      "model_name": "LayoutModel",
      "state": {}
     },
     "2885e6b7d0fb48dcaddb964a433cab19": {
      "model_module": "@jupyter-widgets/base",
      "model_module_version": "2.0.0",
      "model_name": "LayoutModel",
      "state": {}
     },
     "29ab43a2dfa545379a284de1e684950d": {
      "model_module": "@jupyter-widgets/controls",
      "model_module_version": "2.0.0",
      "model_name": "HTMLStyleModel",
      "state": {
       "description_width": "",
       "font_size": null,
       "text_color": null
      }
     },
     "29b5ffabe4824062b25a51bb0377ffb1": {
      "model_module": "@jupyter-widgets/base",
      "model_module_version": "2.0.0",
      "model_name": "LayoutModel",
      "state": {}
     },
     "2b4ac288bceb41a1bfec6bfa61e29361": {
      "model_module": "@jupyter-widgets/base",
      "model_module_version": "2.0.0",
      "model_name": "LayoutModel",
      "state": {}
     },
     "2b91cfae26364fe295c47392e86b77c7": {
      "model_module": "@jupyter-widgets/controls",
      "model_module_version": "2.0.0",
      "model_name": "HBoxModel",
      "state": {
       "children": [
        "IPY_MODEL_dfbb0ad9b4ed4d93bfd5edae6e4f8f06",
        "IPY_MODEL_ae9f5365bfc34aa7959bf59e527e6339",
        "IPY_MODEL_a905d81cf24549b28764a6217c123778"
       ],
       "layout": "IPY_MODEL_84932d00eeaf4368a32b1e123a32b941"
      }
     },
     "2d2c179e4ade4600a35d4a4a4e8e1ffe": {
      "model_module": "@jupyter-widgets/controls",
      "model_module_version": "2.0.0",
      "model_name": "HTMLStyleModel",
      "state": {
       "description_width": "",
       "font_size": null,
       "text_color": null
      }
     },
     "2d4a0451a79843c0b9a6897557693522": {
      "model_module": "@jupyter-widgets/controls",
      "model_module_version": "2.0.0",
      "model_name": "HTMLStyleModel",
      "state": {
       "description_width": "",
       "font_size": null,
       "text_color": null
      }
     },
     "32186289ebf245b28428bb278eaa39f4": {
      "model_module": "@jupyter-widgets/controls",
      "model_module_version": "2.0.0",
      "model_name": "HTMLModel",
      "state": {
       "layout": "IPY_MODEL_b77e5c4d18104c7b84ef5b3b3a0c4a51",
       "style": "IPY_MODEL_f94a4ad60b6c464cae7d3fe783eb66db",
       "value": "tokenizer.json: 100%"
      }
     },
     "3564fbb23d3c4fb0b36fc2a98a3657a8": {
      "model_module": "@jupyter-widgets/controls",
      "model_module_version": "2.0.0",
      "model_name": "FloatProgressModel",
      "state": {
       "bar_style": "success",
       "layout": "IPY_MODEL_cc404358f51f458e937ac79dfacb2aea",
       "max": 231508,
       "style": "IPY_MODEL_871a95fb43894e7fbc81d1683b8ae986",
       "value": 231508
      }
     },
     "3723464042ad4e59b35317fed302c1c5": {
      "model_module": "@jupyter-widgets/controls",
      "model_module_version": "2.0.0",
      "model_name": "HTMLStyleModel",
      "state": {
       "description_width": "",
       "font_size": null,
       "text_color": null
      }
     },
     "37465b50ec9940a2bdf7b7d4e21729c6": {
      "model_module": "@jupyter-widgets/controls",
      "model_module_version": "2.0.0",
      "model_name": "HTMLStyleModel",
      "state": {
       "description_width": "",
       "font_size": null,
       "text_color": null
      }
     },
     "382393313d6d40408c4b1c6df23ee888": {
      "model_module": "@jupyter-widgets/controls",
      "model_module_version": "2.0.0",
      "model_name": "HTMLModel",
      "state": {
       "layout": "IPY_MODEL_2b4ac288bceb41a1bfec6bfa61e29361",
       "style": "IPY_MODEL_dc2a7c5f43da4f3ca11d3fa0f309d708",
       "value": " 1.24k/1.24k [00:00&lt;00:00, 65.4kB/s]"
      }
     },
     "3b1482a868fc43c8a2a0bef8a77a7c76": {
      "model_module": "@jupyter-widgets/base",
      "model_module_version": "2.0.0",
      "model_name": "LayoutModel",
      "state": {}
     },
     "3b4d5c87c6fd488cbf92fae5c674d9c0": {
      "model_module": "@jupyter-widgets/controls",
      "model_module_version": "2.0.0",
      "model_name": "FloatProgressModel",
      "state": {
       "bar_style": "success",
       "layout": "IPY_MODEL_ff5d3ea29527464396b4e329cbd357c6",
       "max": 9,
       "style": "IPY_MODEL_11708841e8574c5e98f092e498fd872e",
       "value": 9
      }
     },
     "3c30ae35102c4faaa8f46f02a93ec8d6": {
      "model_module": "@jupyter-widgets/controls",
      "model_module_version": "2.0.0",
      "model_name": "HTMLModel",
      "state": {
       "layout": "IPY_MODEL_ddfcfd734eeb4970b3f0fcd83ad307d8",
       "style": "IPY_MODEL_d2282dbbb614494fa223266bee1c56c3",
       "value": " 9/9 [00:00&lt;00:00,  4.78it/s]"
      }
     },
     "3c3ced58b7d74777aadd51f92ede9694": {
      "model_module": "@jupyter-widgets/base",
      "model_module_version": "2.0.0",
      "model_name": "LayoutModel",
      "state": {}
     },
     "3c55597db92a41598b9a46c49a784a6f": {
      "model_module": "@jupyter-widgets/controls",
      "model_module_version": "2.0.0",
      "model_name": "HTMLStyleModel",
      "state": {
       "description_width": "",
       "font_size": null,
       "text_color": null
      }
     },
     "3daffa07f10b489c900b87a411e7cbc4": {
      "model_module": "@jupyter-widgets/base",
      "model_module_version": "2.0.0",
      "model_name": "LayoutModel",
      "state": {}
     },
     "3e479a1819554324b2bcb1fa71bf45ec": {
      "model_module": "@jupyter-widgets/base",
      "model_module_version": "2.0.0",
      "model_name": "LayoutModel",
      "state": {}
     },
     "42541e974a21456eab6347a023bb15ed": {
      "model_module": "@jupyter-widgets/base",
      "model_module_version": "2.0.0",
      "model_name": "LayoutModel",
      "state": {}
     },
     "441f9ac42e9144f794d3aa65be19544c": {
      "model_module": "@jupyter-widgets/controls",
      "model_module_version": "2.0.0",
      "model_name": "HBoxModel",
      "state": {
       "children": [
        "IPY_MODEL_638d304336e24bd69b70b17bb66f50ff",
        "IPY_MODEL_ed205bf7cd9b4937a883c49c64bfad59",
        "IPY_MODEL_6f81be7e3694493aaaadf07b38ec5580"
       ],
       "layout": "IPY_MODEL_284132bf31e84fe0b4e3f69c929ee43f"
      }
     },
     "465df3e4d59e4f9d8224a6348ae34c45": {
      "model_module": "@jupyter-widgets/controls",
      "model_module_version": "2.0.0",
      "model_name": "HTMLStyleModel",
      "state": {
       "description_width": "",
       "font_size": null,
       "text_color": null
      }
     },
     "484807564af24f20a4aef28c2fdc4ccc": {
      "model_module": "@jupyter-widgets/base",
      "model_module_version": "2.0.0",
      "model_name": "LayoutModel",
      "state": {}
     },
     "4bce3ceefae4407ab3669fe4f71d8581": {
      "model_module": "@jupyter-widgets/controls",
      "model_module_version": "2.0.0",
      "model_name": "ProgressStyleModel",
      "state": {
       "description_width": ""
      }
     },
     "4c948cf8eb5545c2b2faa2be5b7dc56e": {
      "model_module": "@jupyter-widgets/controls",
      "model_module_version": "2.0.0",
      "model_name": "HTMLModel",
      "state": {
       "layout": "IPY_MODEL_c57d5ca3041b4393bfb66030952b2428",
       "style": "IPY_MODEL_3723464042ad4e59b35317fed302c1c5",
       "value": " 28.0/28.0 [00:00&lt;00:00, 823B/s]"
      }
     },
     "4d399b60dc4542a7bf355a8a06582082": {
      "model_module": "@jupyter-widgets/controls",
      "model_module_version": "2.0.0",
      "model_name": "HBoxModel",
      "state": {
       "children": [
        "IPY_MODEL_b869ebece57e45db804beb7c1a38c88a",
        "IPY_MODEL_90599f55741e4c3ca4a6c3a2dd3fe656",
        "IPY_MODEL_eae677feeb524866b63e0500bb4b5e98"
       ],
       "layout": "IPY_MODEL_3e479a1819554324b2bcb1fa71bf45ec"
      }
     },
     "4ffd7debfe874f77b03730b03a75d190": {
      "model_module": "@jupyter-widgets/controls",
      "model_module_version": "2.0.0",
      "model_name": "HTMLModel",
      "state": {
       "layout": "IPY_MODEL_0027e0cd5db948fb87c2a73f91a6d54a",
       "style": "IPY_MODEL_c400c3db82d84760a17631b253afc998",
       "value": " 9/9 [00:00&lt;00:00, 1287.12it/s]"
      }
     },
     "519f3d0999be465d87f8b3b8fb5b6b70": {
      "model_module": "@jupyter-widgets/base",
      "model_module_version": "2.0.0",
      "model_name": "LayoutModel",
      "state": {}
     },
     "53e4fa8be92f4e1693c41a0ce5d77ad6": {
      "model_module": "@jupyter-widgets/controls",
      "model_module_version": "2.0.0",
      "model_name": "HTMLModel",
      "state": {
       "layout": "IPY_MODEL_3c3ced58b7d74777aadd51f92ede9694",
       "style": "IPY_MODEL_754e00935f574a65ba3391e08781b08c",
       "value": "Fetching 9 files: 100%"
      }
     },
     "5501a37d0bf0494bac8bd5457a77abf6": {
      "model_module": "@jupyter-widgets/controls",
      "model_module_version": "2.0.0",
      "model_name": "HTMLModel",
      "state": {
       "layout": "IPY_MODEL_8135080d77094001abfdd69a94a1ab2c",
       "style": "IPY_MODEL_465df3e4d59e4f9d8224a6348ae34c45",
       "value": " 695/695 [00:00&lt;00:00, 36.6kB/s]"
      }
     },
     "5832db6007794991afc9dd61c3823b86": {
      "model_module": "@jupyter-widgets/base",
      "model_module_version": "2.0.0",
      "model_name": "LayoutModel",
      "state": {}
     },
     "5926aea5bfb34bd48a278dd710078dc9": {
      "model_module": "@jupyter-widgets/controls",
      "model_module_version": "2.0.0",
      "model_name": "HBoxModel",
      "state": {
       "children": [
        "IPY_MODEL_27ba787c9fd64a65a894409800eae1d9",
        "IPY_MODEL_3564fbb23d3c4fb0b36fc2a98a3657a8",
        "IPY_MODEL_e5aa75fe0b2d47a3a02d5fb7982a2c06"
       ],
       "layout": "IPY_MODEL_3daffa07f10b489c900b87a411e7cbc4"
      }
     },
     "5b348a9a3a1741eba851230483f67db4": {
      "model_module": "@jupyter-widgets/base",
      "model_module_version": "2.0.0",
      "model_name": "LayoutModel",
      "state": {}
     },
     "5b8fe0567a0f47d0b5935bee75b9cacf": {
      "model_module": "@jupyter-widgets/controls",
      "model_module_version": "2.0.0",
      "model_name": "ProgressStyleModel",
      "state": {
       "description_width": ""
      }
     },
     "601c1ee666024118973866e81aca14a1": {
      "model_module": "@jupyter-widgets/controls",
      "model_module_version": "2.0.0",
      "model_name": "HTMLModel",
      "state": {
       "layout": "IPY_MODEL_6918ddc18f634a0090dca3ec0e992e99",
       "style": "IPY_MODEL_988e71f58d304f32af777c7eb70a4683",
       "value": " 66.5M/66.5M [00:00&lt;00:00, 114MB/s]"
      }
     },
     "609252f05a7147e9910e4ff8c43399c0": {
      "model_module": "@jupyter-widgets/controls",
      "model_module_version": "2.0.0",
      "model_name": "HTMLModel",
      "state": {
       "layout": "IPY_MODEL_29b5ffabe4824062b25a51bb0377ffb1",
       "style": "IPY_MODEL_b34f4a8432a54b969d3095934f8e3fb5",
       "value": "model_optimized.onnx: 100%"
      }
     },
     "638d304336e24bd69b70b17bb66f50ff": {
      "model_module": "@jupyter-widgets/controls",
      "model_module_version": "2.0.0",
      "model_name": "HTMLModel",
      "state": {
       "layout": "IPY_MODEL_8020e1d777814e5f83e7cdc2650a0119",
       "style": "IPY_MODEL_fa720e8ce22a465bb448779c1e7bdc4f",
       "value": ".gitattributes: 100%"
      }
     },
     "65477444757f40b69c60d64ae09aa3b1": {
      "model_module": "@jupyter-widgets/controls",
      "model_module_version": "2.0.0",
      "model_name": "HTMLModel",
      "state": {
       "layout": "IPY_MODEL_94d1e866cd3c4df99fdd7e47b2513394",
       "style": "IPY_MODEL_b34c44dfddfb4ef6a991e5912e65f297",
       "value": " 706/706 [00:00&lt;00:00, 27.7kB/s]"
      }
     },
     "6584c21bb5724dab93583061c811d706": {
      "model_module": "@jupyter-widgets/controls",
      "model_module_version": "2.0.0",
      "model_name": "ProgressStyleModel",
      "state": {
       "description_width": ""
      }
     },
     "668a9249b84b428eba856cab6e2c48c9": {
      "model_module": "@jupyter-widgets/controls",
      "model_module_version": "2.0.0",
      "model_name": "ProgressStyleModel",
      "state": {
       "description_width": ""
      }
     },
     "6918ddc18f634a0090dca3ec0e992e99": {
      "model_module": "@jupyter-widgets/base",
      "model_module_version": "2.0.0",
      "model_name": "LayoutModel",
      "state": {}
     },
     "695f170d93b74d32b2621ecf96054a48": {
      "model_module": "@jupyter-widgets/controls",
      "model_module_version": "2.0.0",
      "model_name": "FloatProgressModel",
      "state": {
       "bar_style": "success",
       "layout": "IPY_MODEL_3b1482a868fc43c8a2a0bef8a77a7c76",
       "max": 706,
       "style": "IPY_MODEL_ae32e8e90a594cbbaaa9f712313ff805",
       "value": 706
      }
     },
     "6f81be7e3694493aaaadf07b38ec5580": {
      "model_module": "@jupyter-widgets/controls",
      "model_module_version": "2.0.0",
      "model_name": "HTMLModel",
      "state": {
       "layout": "IPY_MODEL_8ef86ea46aae4421950d0f3b744e8703",
       "style": "IPY_MODEL_e54aa9a33d3446ab9b136a8642227293",
       "value": " 1.52k/1.52k [00:00&lt;00:00, 84.4kB/s]"
      }
     },
     "6fba5810e8fa41fe83dacb0c8c0b59fd": {
      "model_module": "@jupyter-widgets/base",
      "model_module_version": "2.0.0",
      "model_name": "LayoutModel",
      "state": {}
     },
     "70a758ba62104aba9add9265ca4e9ef7": {
      "model_module": "@jupyter-widgets/base",
      "model_module_version": "2.0.0",
      "model_name": "LayoutModel",
      "state": {}
     },
     "754e00935f574a65ba3391e08781b08c": {
      "model_module": "@jupyter-widgets/controls",
      "model_module_version": "2.0.0",
      "model_name": "HTMLStyleModel",
      "state": {
       "description_width": "",
       "font_size": null,
       "text_color": null
      }
     },
     "76023f13361a4b2ea28e06daedf594fc": {
      "model_module": "@jupyter-widgets/controls",
      "model_module_version": "2.0.0",
      "model_name": "HTMLModel",
      "state": {
       "layout": "IPY_MODEL_f2a23c31651c4cc19c09550d9511feb9",
       "style": "IPY_MODEL_b5cb7d238c5e46c992f8f23befd20c69",
       "value": "tokenizer_config.json: 100%"
      }
     },
     "766b548f93dc4b90b65e794638e60ee2": {
      "model_module": "@jupyter-widgets/controls",
      "model_module_version": "2.0.0",
      "model_name": "ProgressStyleModel",
      "state": {
       "description_width": ""
      }
     },
     "7bfa94f1cfc64a63b7c01f0318287f74": {
      "model_module": "@jupyter-widgets/base",
      "model_module_version": "2.0.0",
      "model_name": "LayoutModel",
      "state": {}
     },
     "7cc2f2652cd64c5c94245304614433e3": {
      "model_module": "@jupyter-widgets/base",
      "model_module_version": "2.0.0",
      "model_name": "LayoutModel",
      "state": {}
     },
     "7fa62d85d761474b9b4dda0755751175": {
      "model_module": "@jupyter-widgets/controls",
      "model_module_version": "2.0.0",
      "model_name": "FloatProgressModel",
      "state": {
       "bar_style": "success",
       "layout": "IPY_MODEL_5832db6007794991afc9dd61c3823b86",
       "max": 9,
       "style": "IPY_MODEL_766b548f93dc4b90b65e794638e60ee2",
       "value": 9
      }
     },
     "8020e1d777814e5f83e7cdc2650a0119": {
      "model_module": "@jupyter-widgets/base",
      "model_module_version": "2.0.0",
      "model_name": "LayoutModel",
      "state": {}
     },
     "8135080d77094001abfdd69a94a1ab2c": {
      "model_module": "@jupyter-widgets/base",
      "model_module_version": "2.0.0",
      "model_name": "LayoutModel",
      "state": {}
     },
     "83801350da374661aeb384aea14b2df8": {
      "model_module": "@jupyter-widgets/controls",
      "model_module_version": "2.0.0",
      "model_name": "ProgressStyleModel",
      "state": {
       "description_width": ""
      }
     },
     "83bb7b04f40b465497898657be38e6c2": {
      "model_module": "@jupyter-widgets/base",
      "model_module_version": "2.0.0",
      "model_name": "LayoutModel",
      "state": {}
     },
     "84932d00eeaf4368a32b1e123a32b941": {
      "model_module": "@jupyter-widgets/base",
      "model_module_version": "2.0.0",
      "model_name": "LayoutModel",
      "state": {}
     },
     "871a95fb43894e7fbc81d1683b8ae986": {
      "model_module": "@jupyter-widgets/controls",
      "model_module_version": "2.0.0",
      "model_name": "ProgressStyleModel",
      "state": {
       "description_width": ""
      }
     },
     "88b0057efea34c2ca96aa18e2397db20": {
      "model_module": "@jupyter-widgets/controls",
      "model_module_version": "2.0.0",
      "model_name": "FloatProgressModel",
      "state": {
       "bar_style": "success",
       "layout": "IPY_MODEL_935e46ce9e5a46eeb97816edbaedbbc2",
       "max": 1242,
       "style": "IPY_MODEL_b4499b03e4d246ae8af904cec9fb1ef0",
       "value": 1242
      }
     },
     "8d188e646c3a4c59ad3ac8c00d73db14": {
      "model_module": "@jupyter-widgets/controls",
      "model_module_version": "2.0.0",
      "model_name": "HTMLStyleModel",
      "state": {
       "description_width": "",
       "font_size": null,
       "text_color": null
      }
     },
     "8ef86ea46aae4421950d0f3b744e8703": {
      "model_module": "@jupyter-widgets/base",
      "model_module_version": "2.0.0",
      "model_name": "LayoutModel",
      "state": {}
     },
     "90599f55741e4c3ca4a6c3a2dd3fe656": {
      "model_module": "@jupyter-widgets/controls",
      "model_module_version": "2.0.0",
      "model_name": "FloatProgressModel",
      "state": {
       "bar_style": "success",
       "layout": "IPY_MODEL_f93ff2e450d54ef0bc895878e10d604f",
       "max": 9,
       "style": "IPY_MODEL_4bce3ceefae4407ab3669fe4f71d8581",
       "value": 9
      }
     },
     "935e46ce9e5a46eeb97816edbaedbbc2": {
      "model_module": "@jupyter-widgets/base",
      "model_module_version": "2.0.0",
      "model_name": "LayoutModel",
      "state": {}
     },
     "94d1e866cd3c4df99fdd7e47b2513394": {
      "model_module": "@jupyter-widgets/base",
      "model_module_version": "2.0.0",
      "model_name": "LayoutModel",
      "state": {}
     },
     "988e71f58d304f32af777c7eb70a4683": {
      "model_module": "@jupyter-widgets/controls",
      "model_module_version": "2.0.0",
      "model_name": "HTMLStyleModel",
      "state": {
       "description_width": "",
       "font_size": null,
       "text_color": null
      }
     },
     "99aeb83ff11d4c8b9dcd11bbfca65b95": {
      "model_module": "@jupyter-widgets/base",
      "model_module_version": "2.0.0",
      "model_name": "LayoutModel",
      "state": {}
     },
     "a4d58cb4fdaa4e8da632eda91c729251": {
      "model_module": "@jupyter-widgets/controls",
      "model_module_version": "2.0.0",
      "model_name": "HTMLStyleModel",
      "state": {
       "description_width": "",
       "font_size": null,
       "text_color": null
      }
     },
     "a871ce3e2ae24017b4e79c4e66ceb903": {
      "model_module": "@jupyter-widgets/controls",
      "model_module_version": "2.0.0",
      "model_name": "FloatProgressModel",
      "state": {
       "bar_style": "success",
       "layout": "IPY_MODEL_7cc2f2652cd64c5c94245304614433e3",
       "max": 695,
       "style": "IPY_MODEL_83801350da374661aeb384aea14b2df8",
       "value": 695
      }
     },
     "a905d81cf24549b28764a6217c123778": {
      "model_module": "@jupyter-widgets/controls",
      "model_module_version": "2.0.0",
      "model_name": "HTMLModel",
      "state": {
       "layout": "IPY_MODEL_99aeb83ff11d4c8b9dcd11bbfca65b95",
       "style": "IPY_MODEL_e8af7b2e2e604012831dc94b71507d56",
       "value": " 1.27k/1.27k [00:00&lt;00:00, 38.6kB/s]"
      }
     },
     "ae32e8e90a594cbbaaa9f712313ff805": {
      "model_module": "@jupyter-widgets/controls",
      "model_module_version": "2.0.0",
      "model_name": "ProgressStyleModel",
      "state": {
       "description_width": ""
      }
     },
     "ae9f5365bfc34aa7959bf59e527e6339": {
      "model_module": "@jupyter-widgets/controls",
      "model_module_version": "2.0.0",
      "model_name": "FloatProgressModel",
      "state": {
       "bar_style": "success",
       "layout": "IPY_MODEL_e9c823be90d743d7894281c20048b67f",
       "max": 1272,
       "style": "IPY_MODEL_5b8fe0567a0f47d0b5935bee75b9cacf",
       "value": 1272
      }
     },
     "b01ff7a694234d1a8f840cb0cd34a4e9": {
      "model_module": "@jupyter-widgets/controls",
      "model_module_version": "2.0.0",
      "model_name": "HTMLModel",
      "state": {
       "layout": "IPY_MODEL_0a18e30b560d4d4193d93c66f86cadea",
       "style": "IPY_MODEL_234b6a75c001497ebde5004452103d24",
       "value": " 711k/711k [00:00&lt;00:00, 12.0MB/s]"
      }
     },
     "b34c44dfddfb4ef6a991e5912e65f297": {
      "model_module": "@jupyter-widgets/controls",
      "model_module_version": "2.0.0",
      "model_name": "HTMLStyleModel",
      "state": {
       "description_width": "",
       "font_size": null,
       "text_color": null
      }
     },
     "b34f4a8432a54b969d3095934f8e3fb5": {
      "model_module": "@jupyter-widgets/controls",
      "model_module_version": "2.0.0",
      "model_name": "HTMLStyleModel",
      "state": {
       "description_width": "",
       "font_size": null,
       "text_color": null
      }
     },
     "b4499b03e4d246ae8af904cec9fb1ef0": {
      "model_module": "@jupyter-widgets/controls",
      "model_module_version": "2.0.0",
      "model_name": "ProgressStyleModel",
      "state": {
       "description_width": ""
      }
     },
     "b5cb7d238c5e46c992f8f23befd20c69": {
      "model_module": "@jupyter-widgets/controls",
      "model_module_version": "2.0.0",
      "model_name": "HTMLStyleModel",
      "state": {
       "description_width": "",
       "font_size": null,
       "text_color": null
      }
     },
     "b77e5c4d18104c7b84ef5b3b3a0c4a51": {
      "model_module": "@jupyter-widgets/base",
      "model_module_version": "2.0.0",
      "model_name": "LayoutModel",
      "state": {}
     },
     "b869ebece57e45db804beb7c1a38c88a": {
      "model_module": "@jupyter-widgets/controls",
      "model_module_version": "2.0.0",
      "model_name": "HTMLModel",
      "state": {
       "layout": "IPY_MODEL_f89cb849355848cbacea6967970e3f35",
       "style": "IPY_MODEL_a4d58cb4fdaa4e8da632eda91c729251",
       "value": "Fetching 9 files: 100%"
      }
     },
     "bb7b76141e7242dab87cb23c40ca49ed": {
      "model_module": "@jupyter-widgets/base",
      "model_module_version": "2.0.0",
      "model_name": "LayoutModel",
      "state": {}
     },
     "bf777cffaa0c4789af86eae27dbbbba7": {
      "model_module": "@jupyter-widgets/base",
      "model_module_version": "2.0.0",
      "model_name": "LayoutModel",
      "state": {}
     },
     "c399c43ab0504deaade666a3968fadc3": {
      "model_module": "@jupyter-widgets/base",
      "model_module_version": "2.0.0",
      "model_name": "LayoutModel",
      "state": {}
     },
     "c400c3db82d84760a17631b253afc998": {
      "model_module": "@jupyter-widgets/controls",
      "model_module_version": "2.0.0",
      "model_name": "HTMLStyleModel",
      "state": {
       "description_width": "",
       "font_size": null,
       "text_color": null
      }
     },
     "c57d5ca3041b4393bfb66030952b2428": {
      "model_module": "@jupyter-widgets/base",
      "model_module_version": "2.0.0",
      "model_name": "LayoutModel",
      "state": {}
     },
     "c728fd19115b41c6bba3ea5948ab8b19": {
      "model_module": "@jupyter-widgets/controls",
      "model_module_version": "2.0.0",
      "model_name": "HBoxModel",
      "state": {
       "children": [
        "IPY_MODEL_53e4fa8be92f4e1693c41a0ce5d77ad6",
        "IPY_MODEL_7fa62d85d761474b9b4dda0755751175",
        "IPY_MODEL_4ffd7debfe874f77b03730b03a75d190"
       ],
       "layout": "IPY_MODEL_83bb7b04f40b465497898657be38e6c2"
      }
     },
     "c8498a70401b46a6a680a2b55908c657": {
      "model_module": "@jupyter-widgets/base",
      "model_module_version": "2.0.0",
      "model_name": "LayoutModel",
      "state": {}
     },
     "cc404358f51f458e937ac79dfacb2aea": {
      "model_module": "@jupyter-widgets/base",
      "model_module_version": "2.0.0",
      "model_name": "LayoutModel",
      "state": {}
     },
     "ce744cc1df794de9aa451c8a18cb7784": {
      "model_module": "@jupyter-widgets/base",
      "model_module_version": "2.0.0",
      "model_name": "LayoutModel",
      "state": {}
     },
     "d04a49ec494947699b499a036fa17338": {
      "model_module": "@jupyter-widgets/controls",
      "model_module_version": "2.0.0",
      "model_name": "FloatProgressModel",
      "state": {
       "bar_style": "success",
       "layout": "IPY_MODEL_15eeedfaf0084bbf808fc9ef1b1beee2",
       "max": 711396,
       "style": "IPY_MODEL_668a9249b84b428eba856cab6e2c48c9",
       "value": 711396
      }
     },
     "d2282dbbb614494fa223266bee1c56c3": {
      "model_module": "@jupyter-widgets/controls",
      "model_module_version": "2.0.0",
      "model_name": "HTMLStyleModel",
      "state": {
       "description_width": "",
       "font_size": null,
       "text_color": null
      }
     },
     "d356533eb6aa44679db35ffce0ac918e": {
      "model_module": "@jupyter-widgets/base",
      "model_module_version": "2.0.0",
      "model_name": "LayoutModel",
      "state": {}
     },
     "d6db404292bd47ada4a24362ab6ae0e8": {
      "model_module": "@jupyter-widgets/controls",
      "model_module_version": "2.0.0",
      "model_name": "ProgressStyleModel",
      "state": {
       "description_width": ""
      }
     },
     "dc2a7c5f43da4f3ca11d3fa0f309d708": {
      "model_module": "@jupyter-widgets/controls",
      "model_module_version": "2.0.0",
      "model_name": "HTMLStyleModel",
      "state": {
       "description_width": "",
       "font_size": null,
       "text_color": null
      }
     },
     "dcea7a4eb07f4a8b94b0029f8326b5ad": {
      "model_module": "@jupyter-widgets/controls",
      "model_module_version": "2.0.0",
      "model_name": "HTMLModel",
      "state": {
       "layout": "IPY_MODEL_42541e974a21456eab6347a023bb15ed",
       "style": "IPY_MODEL_8d188e646c3a4c59ad3ac8c00d73db14",
       "value": "Fetching 9 files: 100%"
      }
     },
     "ddfcfd734eeb4970b3f0fcd83ad307d8": {
      "model_module": "@jupyter-widgets/base",
      "model_module_version": "2.0.0",
      "model_name": "LayoutModel",
      "state": {}
     },
     "dfbb0ad9b4ed4d93bfd5edae6e4f8f06": {
      "model_module": "@jupyter-widgets/controls",
      "model_module_version": "2.0.0",
      "model_name": "HTMLModel",
      "state": {
       "layout": "IPY_MODEL_f7a46b7062af45e0a795843fae623f4b",
       "style": "IPY_MODEL_f9a8e34d3394445e841d3072c8e74936",
       "value": "ort_config.json: 100%"
      }
     },
     "e1020e9960e947879fa974a3731d7c68": {
      "model_module": "@jupyter-widgets/controls",
      "model_module_version": "2.0.0",
      "model_name": "HBoxModel",
      "state": {
       "children": [
        "IPY_MODEL_609252f05a7147e9910e4ff8c43399c0",
        "IPY_MODEL_243d04709a8643c29aa0a36a8079746d",
        "IPY_MODEL_601c1ee666024118973866e81aca14a1"
       ],
       "layout": "IPY_MODEL_7bfa94f1cfc64a63b7c01f0318287f74"
      }
     },
     "e28a654ed6c8457fb01c14ad281a3f1f": {
      "model_module": "@jupyter-widgets/base",
      "model_module_version": "2.0.0",
      "model_name": "LayoutModel",
      "state": {}
     },
     "e30cb7cf919c4c2f9b18a633c9275ce8": {
      "model_module": "@jupyter-widgets/base",
      "model_module_version": "2.0.0",
      "model_name": "LayoutModel",
      "state": {}
     },
     "e54aa9a33d3446ab9b136a8642227293": {
      "model_module": "@jupyter-widgets/controls",
      "model_module_version": "2.0.0",
      "model_name": "HTMLStyleModel",
      "state": {
       "description_width": "",
       "font_size": null,
       "text_color": null
      }
     },
     "e5aa75fe0b2d47a3a02d5fb7982a2c06": {
      "model_module": "@jupyter-widgets/controls",
      "model_module_version": "2.0.0",
      "model_name": "HTMLModel",
      "state": {
       "layout": "IPY_MODEL_70a758ba62104aba9add9265ca4e9ef7",
       "style": "IPY_MODEL_37465b50ec9940a2bdf7b7d4e21729c6",
       "value": " 232k/232k [00:00&lt;00:00, 5.01MB/s]"
      }
     },
     "e75f67607f67468e9e0864ab348d0d45": {
      "model_module": "@jupyter-widgets/controls",
      "model_module_version": "2.0.0",
      "model_name": "HTMLModel",
      "state": {
       "layout": "IPY_MODEL_484807564af24f20a4aef28c2fdc4ccc",
       "style": "IPY_MODEL_17a83a53503f41f395cecfca1ac54759",
       "value": "config.json: 100%"
      }
     },
     "e8af7b2e2e604012831dc94b71507d56": {
      "model_module": "@jupyter-widgets/controls",
      "model_module_version": "2.0.0",
      "model_name": "HTMLStyleModel",
      "state": {
       "description_width": "",
       "font_size": null,
       "text_color": null
      }
     },
     "e9c823be90d743d7894281c20048b67f": {
      "model_module": "@jupyter-widgets/base",
      "model_module_version": "2.0.0",
      "model_name": "LayoutModel",
      "state": {}
     },
     "eae677feeb524866b63e0500bb4b5e98": {
      "model_module": "@jupyter-widgets/controls",
      "model_module_version": "2.0.0",
      "model_name": "HTMLModel",
      "state": {
       "layout": "IPY_MODEL_ce744cc1df794de9aa451c8a18cb7784",
       "style": "IPY_MODEL_29ab43a2dfa545379a284de1e684950d",
       "value": " 9/9 [00:00&lt;00:00, 1799.79it/s]"
      }
     },
     "ec0b119c751f4574a147dcbd062ea3c3": {
      "model_module": "@jupyter-widgets/controls",
      "model_module_version": "2.0.0",
      "model_name": "HBoxModel",
      "state": {
       "children": [
        "IPY_MODEL_76023f13361a4b2ea28e06daedf594fc",
        "IPY_MODEL_88b0057efea34c2ca96aa18e2397db20",
        "IPY_MODEL_382393313d6d40408c4b1c6df23ee888"
       ],
       "layout": "IPY_MODEL_2885e6b7d0fb48dcaddb964a433cab19"
      }
     },
     "ed205bf7cd9b4937a883c49c64bfad59": {
      "model_module": "@jupyter-widgets/controls",
      "model_module_version": "2.0.0",
      "model_name": "FloatProgressModel",
      "state": {
       "bar_style": "success",
       "layout": "IPY_MODEL_bb7b76141e7242dab87cb23c40ca49ed",
       "max": 1519,
       "style": "IPY_MODEL_6584c21bb5724dab93583061c811d706",
       "value": 1519
      }
     },
     "f2a23c31651c4cc19c09550d9511feb9": {
      "model_module": "@jupyter-widgets/base",
      "model_module_version": "2.0.0",
      "model_name": "LayoutModel",
      "state": {}
     },
     "f7a46b7062af45e0a795843fae623f4b": {
      "model_module": "@jupyter-widgets/base",
      "model_module_version": "2.0.0",
      "model_name": "LayoutModel",
      "state": {}
     },
     "f89cb849355848cbacea6967970e3f35": {
      "model_module": "@jupyter-widgets/base",
      "model_module_version": "2.0.0",
      "model_name": "LayoutModel",
      "state": {}
     },
     "f93ff2e450d54ef0bc895878e10d604f": {
      "model_module": "@jupyter-widgets/base",
      "model_module_version": "2.0.0",
      "model_name": "LayoutModel",
      "state": {}
     },
     "f94a4ad60b6c464cae7d3fe783eb66db": {
      "model_module": "@jupyter-widgets/controls",
      "model_module_version": "2.0.0",
      "model_name": "HTMLStyleModel",
      "state": {
       "description_width": "",
       "font_size": null,
       "text_color": null
      }
     },
     "f9a8e34d3394445e841d3072c8e74936": {
      "model_module": "@jupyter-widgets/controls",
      "model_module_version": "2.0.0",
      "model_name": "HTMLStyleModel",
      "state": {
       "description_width": "",
       "font_size": null,
       "text_color": null
      }
     },
     "fa720e8ce22a465bb448779c1e7bdc4f": {
      "model_module": "@jupyter-widgets/controls",
      "model_module_version": "2.0.0",
      "model_name": "HTMLStyleModel",
      "state": {
       "description_width": "",
       "font_size": null,
       "text_color": null
      }
     },
     "fadacf52c28d471fb2a4d03b3aab2dbf": {
      "model_module": "@jupyter-widgets/controls",
      "model_module_version": "2.0.0",
      "model_name": "HBoxModel",
      "state": {
       "children": [
        "IPY_MODEL_dcea7a4eb07f4a8b94b0029f8326b5ad",
        "IPY_MODEL_3b4d5c87c6fd488cbf92fae5c674d9c0",
        "IPY_MODEL_3c30ae35102c4faaa8f46f02a93ec8d6"
       ],
       "layout": "IPY_MODEL_519f3d0999be465d87f8b3b8fb5b6b70"
      }
     },
     "ff5d3ea29527464396b4e329cbd357c6": {
      "model_module": "@jupyter-widgets/base",
      "model_module_version": "2.0.0",
      "model_name": "LayoutModel",
      "state": {}
     }
    },
    "version_major": 2,
    "version_minor": 0
   }
  }
 },
 "nbformat": 4,
 "nbformat_minor": 5
}
